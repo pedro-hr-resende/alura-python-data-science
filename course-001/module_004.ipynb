{
  "nbformat": 4,
  "nbformat_minor": 0,
  "metadata": {
    "colab": {
      "provenance": []
    },
    "kernelspec": {
      "name": "python3",
      "display_name": "Python 3"
    },
    "language_info": {
      "name": "python"
    }
  },
  "cells": [
    {
      "cell_type": "markdown",
      "source": [
        "### Python for data science"
      ],
      "metadata": {
        "id": "y1sGytV01Fjy"
      }
    },
    {
      "cell_type": "code",
      "execution_count": null,
      "metadata": {
        "id": "Rvh7gL3e00ah"
      },
      "outputs": [],
      "source": [
        "# Author: Pedro Henrique Resende Ribeiro\n",
        "# Description: List, loops and boolean type\n",
        "# Date: 2023-02-15 - Hour: 08:30"
      ]
    },
    {
      "cell_type": "markdown",
      "source": [
        "### Types in a list"
      ],
      "metadata": {
        "id": "z7EQFwl_1OSw"
      }
    },
    {
      "cell_type": "code",
      "source": [
        "number = 10\n",
        "name = 'Pedro'\n",
        "permission = True\n",
        "\n",
        "lst = [number, name, permission]\n",
        "lst"
      ],
      "metadata": {
        "colab": {
          "base_uri": "https://localhost:8080/"
        },
        "id": "MttewDyI1Q3b",
        "outputId": "655938d6-2554-42f8-844b-eba68b37e11f"
      },
      "execution_count": 1,
      "outputs": [
        {
          "output_type": "execute_result",
          "data": {
            "text/plain": [
              "[10, 'Pedro', True]"
            ]
          },
          "metadata": {},
          "execution_count": 1
        }
      ]
    },
    {
      "cell_type": "code",
      "source": [
        "for element in lst:\n",
        "   \n",
        "  print(f'The element {element} is of type {type(element)}')"
      ],
      "metadata": {
        "colab": {
          "base_uri": "https://localhost:8080/"
        },
        "id": "b6OiWs2Z1ef8",
        "outputId": "de523599-cc3e-4f34-b774-1e90d639989d"
      },
      "execution_count": 3,
      "outputs": [
        {
          "output_type": "stream",
          "name": "stdout",
          "text": [
            "The element 10 is of type <class 'int'>\n",
            "The element Pedro is of type <class 'str'>\n",
            "The element True is of type <class 'bool'>\n"
          ]
        }
      ]
    },
    {
      "cell_type": "markdown",
      "source": [
        "### Importing libraries"
      ],
      "metadata": {
        "id": "qvpw9mTt3P-C"
      }
    },
    {
      "cell_type": "code",
      "source": [
        "from random import randrange, seed"
      ],
      "metadata": {
        "id": "_LHfThNA1oaY"
      },
      "execution_count": 9,
      "outputs": []
    },
    {
      "cell_type": "code",
      "source": [
        "seed(10)\n",
        "randrange(0, 11)"
      ],
      "metadata": {
        "colab": {
          "base_uri": "https://localhost:8080/"
        },
        "id": "2vG_dw_r5VDg",
        "outputId": "dad7d46a-b744-4f11-824f-1aa0d2542d9a"
      },
      "execution_count": 10,
      "outputs": [
        {
          "output_type": "execute_result",
          "data": {
            "text/plain": [
              "9"
            ]
          },
          "metadata": {},
          "execution_count": 10
        }
      ]
    },
    {
      "cell_type": "code",
      "source": [
        "grades = []\n",
        "\n",
        "for i in range(10):\n",
        "\n",
        "  grades.append(randrange(0, 11))\n",
        "\n",
        "grades"
      ],
      "metadata": {
        "colab": {
          "base_uri": "https://localhost:8080/"
        },
        "id": "4Egyxu3S4Lgj",
        "outputId": "3ddf82b8-de9c-4394-aedf-ad312cd63899"
      },
      "execution_count": 8,
      "outputs": [
        {
          "output_type": "execute_result",
          "data": {
            "text/plain": [
              "[0, 6, 7, 9, 0, 3, 7, 7, 4, 10]"
            ]
          },
          "metadata": {},
          "execution_count": 8
        }
      ]
    }
  ]
}