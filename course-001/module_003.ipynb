{
  "nbformat": 4,
  "nbformat_minor": 0,
  "metadata": {
    "colab": {
      "provenance": []
    },
    "kernelspec": {
      "name": "python3",
      "display_name": "Python 3"
    },
    "language_info": {
      "name": "python"
    }
  },
  "cells": [
    {
      "cell_type": "markdown",
      "source": [
        "### Python for data science"
      ],
      "metadata": {
        "id": "PDamVer0o1y7"
      }
    },
    {
      "cell_type": "code",
      "execution_count": 1,
      "metadata": {
        "id": "nE3e3zQCopkn"
      },
      "outputs": [],
      "source": [
        "# Author: Pedro Henrique Resende Ribeiro\n",
        "# Description: List, loops and boolean type\n",
        "# Date: 2023-02-15 - Hour: 07:30"
      ]
    },
    {
      "cell_type": "markdown",
      "source": [
        "### List"
      ],
      "metadata": {
        "id": "R0RBVmSRo9tJ"
      }
    },
    {
      "cell_type": "code",
      "source": [
        "number = 10\n",
        "type(number)"
      ],
      "metadata": {
        "colab": {
          "base_uri": "https://localhost:8080/"
        },
        "id": "-tT8NVTEpOql",
        "outputId": "12d561e8-9fd5-45aa-b797-5a5ff3cb4940"
      },
      "execution_count": 2,
      "outputs": [
        {
          "output_type": "execute_result",
          "data": {
            "text/plain": [
              "int"
            ]
          },
          "metadata": {},
          "execution_count": 2
        }
      ]
    },
    {
      "cell_type": "code",
      "source": [
        "name = 'Pedro'\n",
        "type(name)"
      ],
      "metadata": {
        "colab": {
          "base_uri": "https://localhost:8080/"
        },
        "id": "G7tBHWgzpTn_",
        "outputId": "ca381f79-8046-4526-e36f-d3557fa47e57"
      },
      "execution_count": 3,
      "outputs": [
        {
          "output_type": "execute_result",
          "data": {
            "text/plain": [
              "str"
            ]
          },
          "metadata": {},
          "execution_count": 3
        }
      ]
    },
    {
      "cell_type": "code",
      "source": [
        "ages = [18, 22, 15, 50, 41]\n",
        "type(ages)"
      ],
      "metadata": {
        "colab": {
          "base_uri": "https://localhost:8080/"
        },
        "id": "wRtnyi7OpWpZ",
        "outputId": "8ef207bd-cb3f-4546-9cda-d868a503d497"
      },
      "execution_count": 5,
      "outputs": [
        {
          "output_type": "execute_result",
          "data": {
            "text/plain": [
              "list"
            ]
          },
          "metadata": {},
          "execution_count": 5
        }
      ]
    },
    {
      "cell_type": "markdown",
      "source": [
        "### Accessing a list"
      ],
      "metadata": {
        "id": "Ltss0WBIrffR"
      }
    },
    {
      "cell_type": "code",
      "source": [
        "ages[0]"
      ],
      "metadata": {
        "colab": {
          "base_uri": "https://localhost:8080/"
        },
        "id": "q5z1ICn6pdMh",
        "outputId": "1e9f3dbf-a775-42d4-f9de-4b73ecfc722d"
      },
      "execution_count": 6,
      "outputs": [
        {
          "output_type": "execute_result",
          "data": {
            "text/plain": [
              "18"
            ]
          },
          "metadata": {},
          "execution_count": 6
        }
      ]
    },
    {
      "cell_type": "code",
      "source": [
        "ages[0:2]"
      ],
      "metadata": {
        "colab": {
          "base_uri": "https://localhost:8080/"
        },
        "id": "-095LjxYpoTY",
        "outputId": "44a0bfd6-39a7-4681-d197-b310ebf5455e"
      },
      "execution_count": 7,
      "outputs": [
        {
          "output_type": "execute_result",
          "data": {
            "text/plain": [
              "[18, 22]"
            ]
          },
          "metadata": {},
          "execution_count": 7
        }
      ]
    },
    {
      "cell_type": "code",
      "source": [
        "ages[-1]"
      ],
      "metadata": {
        "colab": {
          "base_uri": "https://localhost:8080/"
        },
        "id": "STLjFYK8rFOg",
        "outputId": "3ea78b60-f430-4628-9dca-512771edfa9c"
      },
      "execution_count": 8,
      "outputs": [
        {
          "output_type": "execute_result",
          "data": {
            "text/plain": [
              "41"
            ]
          },
          "metadata": {},
          "execution_count": 8
        }
      ]
    },
    {
      "cell_type": "markdown",
      "source": [
        "### Loops"
      ],
      "metadata": {
        "id": "RYPl3HI_sm4x"
      }
    },
    {
      "cell_type": "code",
      "source": [
        "def check_age_to_drive(age):\n",
        "\n",
        "  if age >= 18:\n",
        "    print(f'{age}: The person can drive')\n",
        "  else:\n",
        "    print(f'{age}: The person cannot drive')"
      ],
      "metadata": {
        "id": "pd_jPXFDrcog"
      },
      "execution_count": 16,
      "outputs": []
    },
    {
      "cell_type": "code",
      "source": [
        "for age in ages:\n",
        "\n",
        "  check_age_to_drive(age)"
      ],
      "metadata": {
        "colab": {
          "base_uri": "https://localhost:8080/"
        },
        "id": "BWGBrsebtChi",
        "outputId": "0e0e38da-f5ad-48f8-c18c-b91f36cd8976"
      },
      "execution_count": 17,
      "outputs": [
        {
          "output_type": "stream",
          "name": "stdout",
          "text": [
            "18: The person can drive\n",
            "22: The person can drive\n",
            "15: The person cannot drive\n",
            "50: The person can drive\n",
            "41: The person can drive\n"
          ]
        }
      ]
    },
    {
      "cell_type": "code",
      "source": [
        "for i in range(len(ages)):\n",
        "\n",
        "  check_age_to_drive(ages[i])"
      ],
      "metadata": {
        "colab": {
          "base_uri": "https://localhost:8080/"
        },
        "id": "zAtPRNmPtZw4",
        "outputId": "36c3094b-7a4c-4852-c1c7-4003d3628c99"
      },
      "execution_count": 18,
      "outputs": [
        {
          "output_type": "stream",
          "name": "stdout",
          "text": [
            "18: The person can drive\n",
            "22: The person can drive\n",
            "15: The person cannot drive\n",
            "50: The person can drive\n",
            "41: The person can drive\n"
          ]
        }
      ]
    },
    {
      "cell_type": "code",
      "source": [
        "def check_ages_with_for(ages):\n",
        "\n",
        "  for age in ages:\n",
        "\n",
        "      if age >= 18:\n",
        "        print(f'{age}: The person can drive')\n",
        "      else:\n",
        "        print(f'{age}: The person cannot drive')"
      ],
      "metadata": {
        "id": "G9RTNHzWtrCX"
      },
      "execution_count": 19,
      "outputs": []
    },
    {
      "cell_type": "code",
      "source": [
        "check_ages_with_for(ages)"
      ],
      "metadata": {
        "colab": {
          "base_uri": "https://localhost:8080/"
        },
        "id": "L8hlmbjJugaT",
        "outputId": "cbb5f568-a3c8-4b98-f769-725743a7e1c6"
      },
      "execution_count": 20,
      "outputs": [
        {
          "output_type": "stream",
          "name": "stdout",
          "text": [
            "18: The person can drive\n",
            "22: The person can drive\n",
            "15: The person cannot drive\n",
            "50: The person can drive\n",
            "41: The person can drive\n"
          ]
        }
      ]
    },
    {
      "cell_type": "markdown",
      "source": [
        "### Boolean type"
      ],
      "metadata": {
        "id": "pyeE3uzsv5mS"
      }
    },
    {
      "cell_type": "code",
      "source": [
        "age = 18\n",
        "\n",
        "print(age >= 18)\n",
        "print(age >= 20)"
      ],
      "metadata": {
        "colab": {
          "base_uri": "https://localhost:8080/"
        },
        "id": "aMVYzpn7ujnZ",
        "outputId": "060b5270-01d8-4917-b408-13eac17d03d6"
      },
      "execution_count": 22,
      "outputs": [
        {
          "output_type": "stream",
          "name": "stdout",
          "text": [
            "True\n",
            "False\n"
          ]
        }
      ]
    },
    {
      "cell_type": "code",
      "source": [
        "def check_age_with_boolean(ages, permissions):\n",
        "\n",
        "  for age in ages:\n",
        "\n",
        "    if age >= 18:\n",
        "      permissions.append(True)\n",
        "    else:\n",
        "      permissions.append(False)"
      ],
      "metadata": {
        "id": "Ryxv6owlwKkS"
      },
      "execution_count": 23,
      "outputs": []
    },
    {
      "cell_type": "code",
      "source": [
        "permissions = []\n",
        "ages = [20, 14, 40]\n",
        "\n",
        "check_age_with_boolean(ages, permissions)\n",
        "\n",
        "permissions"
      ],
      "metadata": {
        "colab": {
          "base_uri": "https://localhost:8080/"
        },
        "id": "xcilzc0Xw6ni",
        "outputId": "c79fc3e5-19ab-4b22-fa7e-e902f478519c"
      },
      "execution_count": 24,
      "outputs": [
        {
          "output_type": "execute_result",
          "data": {
            "text/plain": [
              "[True, False, True]"
            ]
          },
          "metadata": {},
          "execution_count": 24
        }
      ]
    },
    {
      "cell_type": "code",
      "source": [
        "for permission in permissions:\n",
        "  \n",
        "  if permission:\n",
        "    print('The person can drive')\n",
        "  else:\n",
        "    print('The person cannot drive')"
      ],
      "metadata": {
        "colab": {
          "base_uri": "https://localhost:8080/"
        },
        "id": "_1tUdl3axKAS",
        "outputId": "df635fa5-ced5-4f54-ae5e-1775425f2746"
      },
      "execution_count": 26,
      "outputs": [
        {
          "output_type": "stream",
          "name": "stdout",
          "text": [
            "The person can drive\n",
            "The person cannot drive\n",
            "The person can drive\n"
          ]
        }
      ]
    }
  ]
}