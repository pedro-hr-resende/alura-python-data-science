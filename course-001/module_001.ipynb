{
  "nbformat": 4,
  "nbformat_minor": 0,
  "metadata": {
    "colab": {
      "provenance": []
    },
    "kernelspec": {
      "name": "python3",
      "display_name": "Python 3"
    },
    "language_info": {
      "name": "python"
    }
  },
  "cells": [
    {
      "cell_type": "markdown",
      "source": [
        "### Python for data science"
      ],
      "metadata": {
        "id": "RxvymADTiMTp"
      }
    },
    {
      "cell_type": "code",
      "execution_count": null,
      "metadata": {
        "id": "IvnKNtu9h6zf"
      },
      "outputs": [],
      "source": [
        "# Author: Pedro Henrique Resende Ribeiro\n",
        "# Description: Functions and high level language\n",
        "# Date: 2023-02-14 - Hour: 07:50"
      ]
    },
    {
      "cell_type": "markdown",
      "source": [
        "### Variables"
      ],
      "metadata": {
        "id": "8uOS43zTjImr"
      }
    },
    {
      "cell_type": "code",
      "source": [
        "name = 'Pedro Henrique'\n",
        "print(name)"
      ],
      "metadata": {
        "colab": {
          "base_uri": "https://localhost:8080/"
        },
        "id": "H2FPadfgjLee",
        "outputId": "af962234-3e45-49c9-faba-d558e4d36a43"
      },
      "execution_count": null,
      "outputs": [
        {
          "output_type": "stream",
          "name": "stdout",
          "text": [
            "Pedro Henrique\n"
          ]
        }
      ]
    },
    {
      "cell_type": "code",
      "source": [
        "number_1 = 10\n",
        "number_2 = 20\n",
        "print(number_1 + number_2)"
      ],
      "metadata": {
        "colab": {
          "base_uri": "https://localhost:8080/"
        },
        "id": "djb8ZdcYlYqF",
        "outputId": "c9bad531-843a-4295-99eb-c5bfedf739f0"
      },
      "execution_count": null,
      "outputs": [
        {
          "output_type": "stream",
          "name": "stdout",
          "text": [
            "30\n"
          ]
        }
      ]
    },
    {
      "cell_type": "code",
      "source": [
        "number_3 = 15.0\n",
        "number_4 = 2.5\n",
        "print(number_3 / number_4)"
      ],
      "metadata": {
        "colab": {
          "base_uri": "https://localhost:8080/"
        },
        "id": "epy4qnJ3mvKx",
        "outputId": "62f33c32-9b10-4f4e-a58b-b04dadcdabe6"
      },
      "execution_count": null,
      "outputs": [
        {
          "output_type": "stream",
          "name": "stdout",
          "text": [
            "6.0\n"
          ]
        }
      ]
    },
    {
      "cell_type": "code",
      "source": [
        "correct = True\n",
        "print(correct)"
      ],
      "metadata": {
        "colab": {
          "base_uri": "https://localhost:8080/"
        },
        "id": "X4qW4ApWo9IC",
        "outputId": "e4ac18cb-278d-4bcf-ef69-b44ed3f2d8d4"
      },
      "execution_count": null,
      "outputs": [
        {
          "output_type": "stream",
          "name": "stdout",
          "text": [
            "True\n"
          ]
        }
      ]
    },
    {
      "cell_type": "markdown",
      "source": [
        "### Functions"
      ],
      "metadata": {
        "id": "SCBU6xoOo4kr"
      }
    },
    {
      "cell_type": "code",
      "source": [
        "name = 'Pedro Henrique'\n",
        "age = 27\n",
        "\n",
        "print(f'My name is {name} and my age is {age} years old')"
      ],
      "metadata": {
        "colab": {
          "base_uri": "https://localhost:8080/"
        },
        "id": "JvzabSOsnPxq",
        "outputId": "f545438b-c8b6-4acc-f592-3cf32ccc35a6"
      },
      "execution_count": null,
      "outputs": [
        {
          "output_type": "stream",
          "name": "stdout",
          "text": [
            "My name is Pedro Henrique and my age is 27 years old\n"
          ]
        }
      ]
    },
    {
      "cell_type": "code",
      "source": [
        "def greeting():\n",
        "\n",
        "  name = input('Enter your name: ')\n",
        "  print(f'Hello {name}!')"
      ],
      "metadata": {
        "id": "XzP16MJNpYQs"
      },
      "execution_count": null,
      "outputs": []
    },
    {
      "cell_type": "code",
      "source": [
        "greeting()"
      ],
      "metadata": {
        "colab": {
          "base_uri": "https://localhost:8080/"
        },
        "id": "lH4isj9pqkg1",
        "outputId": "aca72c5c-9976-488b-8bec-979e06bf7142"
      },
      "execution_count": null,
      "outputs": [
        {
          "output_type": "stream",
          "name": "stdout",
          "text": [
            "Enter your name: Pedro Henrique\n",
            "Hello Pedro Henrique!\n"
          ]
        }
      ]
    },
    {
      "cell_type": "code",
      "source": [
        "def complete_name():\n",
        "\n",
        "  first_name = input('Enter your first name: ')\n",
        "  last_name = input('Enter your last name: ')\n",
        "\n",
        "  full_name = first_name + ' ' + last_name\n",
        "\n",
        "  print(f'Your complete name is {full_name}')"
      ],
      "metadata": {
        "id": "oOuKiE0ctnx8"
      },
      "execution_count": null,
      "outputs": []
    },
    {
      "cell_type": "code",
      "source": [
        "complete_name()"
      ],
      "metadata": {
        "colab": {
          "base_uri": "https://localhost:8080/"
        },
        "id": "ac_YOo6Ft-TA",
        "outputId": "d75f5ec6-b9b8-4af9-f558-14eb5da26ace"
      },
      "execution_count": null,
      "outputs": [
        {
          "output_type": "stream",
          "name": "stdout",
          "text": [
            "Enter your first name: Pedro\n",
            "Enter your last name: Ribeiro\n",
            "Your complete name is Pedro Ribeiro\n"
          ]
        }
      ]
    }
  ]
}