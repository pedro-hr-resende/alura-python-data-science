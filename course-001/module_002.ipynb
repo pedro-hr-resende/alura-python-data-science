{
  "nbformat": 4,
  "nbformat_minor": 0,
  "metadata": {
    "colab": {
      "provenance": []
    },
    "kernelspec": {
      "name": "python3",
      "display_name": "Python 3"
    },
    "language_info": {
      "name": "python"
    }
  },
  "cells": [
    {
      "cell_type": "markdown",
      "source": [
        "### Python for data science"
      ],
      "metadata": {
        "id": "XEB0O_tKxLqy"
      }
    },
    {
      "cell_type": "code",
      "execution_count": null,
      "metadata": {
        "id": "e2s8hpyVxJs6"
      },
      "outputs": [],
      "source": [
        "# Author: Pedro Henrique Resende Ribeiro\n",
        "# Description: Functions and high level language\n",
        "# Date: 2023-02-14 - Hour: 08:50"
      ]
    },
    {
      "cell_type": "markdown",
      "source": [
        "### Function with parameter"
      ],
      "metadata": {
        "id": "VVdu3DztxSE5"
      }
    },
    {
      "cell_type": "code",
      "source": [
        "def greeting_parameter(name):\n",
        "  \n",
        "  print(f'Hello {name}!')"
      ],
      "metadata": {
        "id": "_VVlFXyHxUMx"
      },
      "execution_count": null,
      "outputs": []
    },
    {
      "cell_type": "code",
      "source": [
        "greeting_parameter('Pedro')"
      ],
      "metadata": {
        "colab": {
          "base_uri": "https://localhost:8080/"
        },
        "id": "7JHfI0UxxjZM",
        "outputId": "28025680-c9f4-482b-f428-589633a6f6ce"
      },
      "execution_count": null,
      "outputs": [
        {
          "output_type": "stream",
          "name": "stdout",
          "text": [
            "Hello Pedro!\n"
          ]
        }
      ]
    },
    {
      "cell_type": "markdown",
      "source": [
        "### Conditional"
      ],
      "metadata": {
        "id": "QCGZIhTGyPO6"
      }
    },
    {
      "cell_type": "code",
      "source": [
        "def check_age_to_drive(age):\n",
        "\n",
        "  if (age >= 18):\n",
        "    print('This person can drive')\n",
        "  else:\n",
        "    print('This person cannot drive')"
      ],
      "metadata": {
        "id": "Gb47SlEHxpsq"
      },
      "execution_count": null,
      "outputs": []
    },
    {
      "cell_type": "code",
      "source": [
        "check_age_to_drive(20)"
      ],
      "metadata": {
        "colab": {
          "base_uri": "https://localhost:8080/"
        },
        "id": "IeG-28rQzE_l",
        "outputId": "17f1c857-4221-44f1-ed01-2c6d1bc1218a"
      },
      "execution_count": null,
      "outputs": [
        {
          "output_type": "stream",
          "name": "stdout",
          "text": [
            "This person can drive\n"
          ]
        }
      ]
    },
    {
      "cell_type": "code",
      "source": [
        "check_age_to_drive(15)"
      ],
      "metadata": {
        "colab": {
          "base_uri": "https://localhost:8080/"
        },
        "id": "jUMt9K1uzJqC",
        "outputId": "6ad47fb1-e6a2-4a6d-9af6-7a8173378fc3"
      },
      "execution_count": null,
      "outputs": [
        {
          "output_type": "stream",
          "name": "stdout",
          "text": [
            "This person cannot drive\n"
          ]
        }
      ]
    },
    {
      "cell_type": "markdown",
      "source": [
        "### Python casting"
      ],
      "metadata": {
        "id": "uo3UXz213Qwj"
      }
    },
    {
      "cell_type": "code",
      "source": [
        "def check_number():\n",
        "\n",
        "  number = input('Enter an integer number: ')\n",
        "  number = int(number)\n",
        "\n",
        "  if number >= 0:\n",
        "    print('This number is greater than or equal zero')\n",
        "  else:\n",
        "    print('This number is less then zero')"
      ],
      "metadata": {
        "id": "K6vAd-DS2pcc"
      },
      "execution_count": null,
      "outputs": []
    },
    {
      "cell_type": "code",
      "source": [
        "check_number()"
      ],
      "metadata": {
        "colab": {
          "base_uri": "https://localhost:8080/"
        },
        "id": "bWqotme13U_j",
        "outputId": "0b7dedde-e576-4ecb-bffc-9610cdd7fc9e"
      },
      "execution_count": null,
      "outputs": [
        {
          "output_type": "stream",
          "name": "stdout",
          "text": [
            "Enter an integer number: 10\n",
            "This number is greater than or equal zero\n"
          ]
        }
      ]
    },
    {
      "cell_type": "code",
      "source": [
        "check_number()"
      ],
      "metadata": {
        "colab": {
          "base_uri": "https://localhost:8080/"
        },
        "id": "gpg1PD2Q3Ydi",
        "outputId": "768ab719-cd21-4121-d7b2-751e1442afcc"
      },
      "execution_count": null,
      "outputs": [
        {
          "output_type": "stream",
          "name": "stdout",
          "text": [
            "Enter an integer number: -5\n",
            "This number is less then zero\n"
          ]
        }
      ]
    },
    {
      "cell_type": "markdown",
      "source": [
        "### Exercises"
      ],
      "metadata": {
        "id": "e5jOPAYy4gqK"
      }
    },
    {
      "cell_type": "code",
      "source": [
        "def calculate_speed(space, time):\n",
        "\n",
        "  speed = space / time\n",
        "  print(f'The speed is {speed} m/s')"
      ],
      "metadata": {
        "id": "vaCCQa6D4djz"
      },
      "execution_count": null,
      "outputs": []
    },
    {
      "cell_type": "code",
      "source": [
        "calculate_speed(100, 10)"
      ],
      "metadata": {
        "colab": {
          "base_uri": "https://localhost:8080/"
        },
        "id": "3Z00dvMP40Qy",
        "outputId": "8dbb44fd-1fe7-4fda-c981-1b9b9fc33b7c"
      },
      "execution_count": null,
      "outputs": [
        {
          "output_type": "stream",
          "name": "stdout",
          "text": [
            "The speed is 10.0 m/s\n"
          ]
        }
      ]
    }
  ]
}